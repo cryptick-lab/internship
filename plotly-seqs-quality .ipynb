{
 "cells": [
  {
   "cell_type": "markdown",
   "metadata": {},
   "source": [
    "# Visualizing bioinformatics data with plot.ly"
   ]
  },
  {
   "cell_type": "markdown",
   "metadata": {},
   "source": [
    "This notebook is used for visualising the quality scores of each sample.\n",
    "It generates an interactive graph, one per sample of all the seqeuences generated from that sample."
   ]
  },
  {
   "cell_type": "markdown",
   "metadata": {},
   "source": [
    "URL https://plot.ly/~johnchase/22/visualizing-bioinformatics-data-with-plo/"
   ]
  },
  {
   "cell_type": "code",
   "execution_count": 8,
   "metadata": {},
   "outputs": [
    {
     "name": "stdout",
     "output_type": "stream",
     "text": [
      "Fetching package metadata ...........\n",
      "\n",
      "PackageNotFoundError: Packages missing in current channels:\n",
      "            \n",
      "  - colorlover\n",
      "\n",
      "We have searched for the packages in the following channels:\n",
      "            \n",
      "  - https://repo.continuum.io/pkgs/main/osx-64\n",
      "  - https://repo.continuum.io/pkgs/main/noarch\n",
      "  - https://repo.continuum.io/pkgs/free/osx-64\n",
      "  - https://repo.continuum.io/pkgs/free/noarch\n",
      "  - https://repo.continuum.io/pkgs/r/osx-64\n",
      "  - https://repo.continuum.io/pkgs/r/noarch\n",
      "  - https://repo.continuum.io/pkgs/pro/osx-64\n",
      "  - https://repo.continuum.io/pkgs/pro/noarch\n",
      "            \n",
      "\n"
     ]
    }
   ],
   "source": [
    "!conda search colorlover"
   ]
  },
  {
   "cell_type": "code",
   "execution_count": null,
   "metadata": {
    "collapsed": true
   },
   "outputs": [],
   "source": [
    "# Obtain files"
   ]
  },
  {
   "cell_type": "code",
   "execution_count": 1,
   "metadata": {},
   "outputs": [
    {
     "name": "stdout",
     "output_type": "stream",
     "text": [
      "--2017-12-14 17:01:35--  https://github.com/johnchase/plotly-notebook/raw/master/raw_data.tar.gz\n",
      "Resolving github.com... 192.30.255.112, 192.30.255.113\n",
      "Connecting to github.com|192.30.255.112|:443... connected.\n",
      "HTTP request sent, awaiting response... 302 Found\n",
      "Location: https://raw.githubusercontent.com/johnchase/plotly-notebook/master/raw_data.tar.gz [following]\n",
      "--2017-12-14 17:01:37--  https://raw.githubusercontent.com/johnchase/plotly-notebook/master/raw_data.tar.gz\n",
      "Resolving raw.githubusercontent.com... 151.101.104.133\n",
      "Connecting to raw.githubusercontent.com|151.101.104.133|:443... connected.\n",
      "HTTP request sent, awaiting response... 200 OK\n",
      "Length: 2335320 (2.2M) [application/octet-stream]\n",
      "Saving to: 'raw_data.tar.gz'\n",
      "\n",
      "raw_data.tar.gz     100%[===================>]   2.23M  1.36MB/s    in 1.6s    \n",
      "\n",
      "2017-12-14 17:01:40 (1.36 MB/s) - 'raw_data.tar.gz' saved [2335320/2335320]\n",
      "\n"
     ]
    }
   ],
   "source": [
    "!wget https://github.com/johnchase/plotly-notebook/raw/master/raw_data.tar.gz"
   ]
  },
  {
   "cell_type": "code",
   "execution_count": 2,
   "metadata": {},
   "outputs": [
    {
     "name": "stdout",
     "output_type": "stream",
     "text": [
      "x ./._msa10.fna\n",
      "x msa10.fna\n",
      "x ./._seqs_quals.fastq\n",
      "x seqs_quals.fastq\n"
     ]
    }
   ],
   "source": [
    "!tar -xvzf raw_data.tar.gz"
   ]
  },
  {
   "cell_type": "code",
   "execution_count": null,
   "metadata": {
    "collapsed": true
   },
   "outputs": [],
   "source": [
    "#load libraries"
   ]
  },
  {
   "cell_type": "code",
   "execution_count": 23,
   "metadata": {
    "collapsed": true
   },
   "outputs": [],
   "source": [
    "import plotly.plotly as py\n",
    "import plotly.graph_objs as go\n",
    "from plotly.tools import FigureFactory as FF\n",
    "import colorlover as cl\n",
    "\n",
    "import skbio\n",
    "from skbio.alignment import global_pairwise_align_nucleotide\n",
    "from skbio.sequence import DNA\n",
    "import pandas as pd\n",
    "import itertools\n",
    "import numpy as np"
   ]
  },
  {
   "cell_type": "code",
   "execution_count": 48,
   "metadata": {
    "collapsed": true
   },
   "outputs": [],
   "source": [
    "import plotly \n",
    "plotly.tools.set_credentials_file(username='siobhonegan', api_key='4RpshP5pf7nc7tyGvhaD')"
   ]
  },
  {
   "cell_type": "code",
   "execution_count": 49,
   "metadata": {
    "collapsed": true
   },
   "outputs": [],
   "source": [
    "py.sign_in('siobhonegan', '')"
   ]
  },
  {
   "cell_type": "markdown",
   "metadata": {},
   "source": [
    "## 1. Sequence Quality"
   ]
  },
  {
   "cell_type": "markdown",
   "metadata": {},
   "source": [
    "Because the quality of sequence data produced by high throughput sequencing varies between sequencing runs and samples it is important to look at the sequence quality and possibly filter or trim sequences, or remove samples where the quality is low. A more detailed description of the fastq format and quality scores can be found here [http://scikit-bio.org/docs/latest/generated/skbio.io.format.fastq.html?highlight=fastq#module-skbio.io.format.fastq]. Quality scores themselves are difficult to interpret, so we will use scikit-bio to decode the scores for us. Here we load the sequence data into a generator with scikit-bio."
   ]
  },
  {
   "cell_type": "code",
   "execution_count": 59,
   "metadata": {
    "collapsed": true
   },
   "outputs": [],
   "source": [
    "f = '319ITF-B16_S26_L001_R1_001.fastq'\n",
    "seqs = skbio.io.read(f, format='fastq', verify=False, variant='illumina1.8')"
   ]
  },
  {
   "cell_type": "markdown",
   "metadata": {},
   "source": [
    "We can view one of the skbio.sequence._sequence.Sequence entries in the generator object. This will display the sequence data and associated metadata."
   ]
  },
  {
   "cell_type": "code",
   "execution_count": 60,
   "metadata": {},
   "outputs": [
    {
     "data": {
      "text/plain": [
       "Sequence\n",
       "---------------------------------------------------------------------\n",
       "Metadata:\n",
       "    'description': '1:N:0:AAGAGGCA+TCTGCATA'\n",
       "    'id': 'M03542:139:000000000-AYK6Y:1:1101:18775:1757'\n",
       "Positional metadata:\n",
       "    'quality': <dtype: uint8>\n",
       "Stats:\n",
       "    length: 250\n",
       "---------------------------------------------------------------------\n",
       "0   TGAGTTTGAT CCTGGCTCAG AACGAACGCT ATCGGTATGC TTAACACATG CAAGTCGAAC\n",
       "60  GGTCTAATTG GGTCTTGCTC CATTTATTTA GTGGCAGACG GGTGAGTAAC ATGTGGGTAT\n",
       "120 CTACCCATCT GTACTGAATA ACTTTTAGAA ATAAAAGCTA ATACCGTATA TTCTCTACGT\n",
       "180 AGGAAAGATT TATCGCTGTT GGTTGAGCCC GCGTCTGATT AGGTAGTTGG TGAGGTAATG\n",
       "240 GCTCACCAAG"
      ]
     },
     "execution_count": 60,
     "metadata": {},
     "output_type": "execute_result"
    }
   ],
   "source": [
    "seq1 = seqs.__next__()\n",
    "seq1"
   ]
  },
  {
   "cell_type": "markdown",
   "metadata": {},
   "source": [
    "Looking through sequence quality on a per-sequence basis is tedious and it would be diffult to decipher meaningful patterns, plotting the data is a better solution. In order to create a meaningful plot we will first create a pd.DataFrame object of the quality scores. Due to limitations in data size and because a subset of our data will fairly accurately represent the quality of the full data set we will only look at the first 500 sequences in our data set."
   ]
  },
  {
   "cell_type": "code",
   "execution_count": 61,
   "metadata": {
    "collapsed": true
   },
   "outputs": [],
   "source": [
    "seqs = skbio.io.read(f, format='fastq', verify=False, variant='illumina1.8')\n",
    "\n",
    "df = pd.DataFrame()\n",
    "num_sequences = 500\n",
    "\n",
    "for count, seq in enumerate(itertools.islice(seqs, num_sequences)):\n",
    "    df[count] = seq.positional_metadata.quality"
   ]
  },
  {
   "cell_type": "markdown",
   "metadata": {},
   "source": [
    "Now that we have a dataframe with all of our quality scores it is easy to visualize them with plotly.\n",
    "We can improve upon a basic boxplot by defining a specific color scheme. Fastq quality scores range from 0-40, and poor quality is often considered to be anything less then 20. Given this we will define a diverging colormap where an average quality score of below 20 will be a shade of red and anything above will be a shade of blue. (20 will be yellow). This will help with distinguishing regions of high versus low quality."
   ]
  },
  {
   "cell_type": "markdown",
   "metadata": {},
   "source": [
    "First define the colormap using color lover"
   ]
  },
  {
   "cell_type": "code",
   "execution_count": 62,
   "metadata": {
    "collapsed": true
   },
   "outputs": [],
   "source": [
    "purd = cl.scales['11']['div']['RdYlBu']\n",
    "purd40 = cl.interp(purd, 40)"
   ]
  },
  {
   "cell_type": "markdown",
   "metadata": {},
   "source": [
    "Now we can make boxplots of the quality scores on a per base basis"
   ]
  },
  {
   "cell_type": "code",
   "execution_count": 63,
   "metadata": {},
   "outputs": [
    {
     "name": "stdout",
     "output_type": "stream",
     "text": [
      "High five! You successfully sent some data to your account on plotly. View your plot in your browser at https://plot.ly/~siobhonegan/0 or inside your plot.ly account where it is named 'quality-scores'\n"
     ]
    },
    {
     "data": {
      "text/html": [
       "<iframe id=\"igraph\" scrolling=\"no\" style=\"border:none;\" seamless=\"seamless\" src=\"https://plot.ly/~siobhonegan/0.embed\" height=\"525px\" width=\"100%\"></iframe>"
      ],
      "text/plain": [
       "<plotly.tools.PlotlyDisplay object>"
      ]
     },
     "execution_count": 63,
     "metadata": {},
     "output_type": "execute_result"
    }
   ],
   "source": [
    "traces = []\n",
    "for e in range(len(df)):\n",
    "    traces.append(go.Box(\n",
    "        y=df.iloc[e].values,\n",
    "        name=e,\n",
    "        boxpoints='none',\n",
    "        whiskerwidth=0.2,\n",
    "        marker=dict(\n",
    "            size=.1,\n",
    "            color=purd40[int(round(df.iloc[e].mean(), 0))]\n",
    "        ),\n",
    "        line=dict(width=1),\n",
    "    ))\n",
    "\n",
    "layout = go.Layout(\n",
    "    title='Quality Score Distributions',\n",
    "    yaxis=dict(\n",
    "        title='Quality Score',\n",
    "        autorange=True,\n",
    "        showgrid=True,\n",
    "        zeroline=True,\n",
    "        gridcolor='#d9d4d3',\n",
    "        zerolinecolor='#d9d4d3',\n",
    "    ),\n",
    "    xaxis=dict(\n",
    "        title='Base Position',\n",
    "    ),\n",
    "\n",
    "    font=dict(family='Times New Roman', size=16, color='#2e1c18'),\n",
    "    paper_bgcolor='#eCe9e9',\n",
    "    plot_bgcolor='#eCe9e9'\n",
    ")\n",
    "\n",
    "fig = go.Figure(data=traces, layout=layout)\n",
    "py.iplot(fig, filename='quality-scores')"
   ]
  }
 ],
 "metadata": {
  "kernelspec": {
   "display_name": "Python 3",
   "language": "python",
   "name": "python3"
  },
  "language_info": {
   "codemirror_mode": {
    "name": "ipython",
    "version": 3
   },
   "file_extension": ".py",
   "mimetype": "text/x-python",
   "name": "python",
   "nbconvert_exporter": "python",
   "pygments_lexer": "ipython3",
   "version": "3.6.3"
  }
 },
 "nbformat": 4,
 "nbformat_minor": 2
}
