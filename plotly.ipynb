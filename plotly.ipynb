{
 "cells": [
  {
   "cell_type": "markdown",
   "metadata": {},
   "source": [
    "# Visualizing bioinformatics data with plot.ly"
   ]
  },
  {
   "cell_type": "markdown",
   "metadata": {},
   "source": [
    "This notebook is used for visualising the quality scores of each sample.\n",
    "It generates an interactive graph, one per sample of all the seqeuences generated from that sample."
   ]
  },
  {
   "cell_type": "markdown",
   "metadata": {},
   "source": [
    "https://plot.ly/~johnchase/22/visualizing-bioinformatics-data-with-plo/"
   ]
  },
  {
   "cell_type": "code",
   "execution_count": 8,
   "metadata": {},
   "outputs": [
    {
     "name": "stdout",
     "output_type": "stream",
     "text": [
      "Fetching package metadata ...........\n",
      "\n",
      "PackageNotFoundError: Packages missing in current channels:\n",
      "            \n",
      "  - colorlover\n",
      "\n",
      "We have searched for the packages in the following channels:\n",
      "            \n",
      "  - https://repo.continuum.io/pkgs/main/osx-64\n",
      "  - https://repo.continuum.io/pkgs/main/noarch\n",
      "  - https://repo.continuum.io/pkgs/free/osx-64\n",
      "  - https://repo.continuum.io/pkgs/free/noarch\n",
      "  - https://repo.continuum.io/pkgs/r/osx-64\n",
      "  - https://repo.continuum.io/pkgs/r/noarch\n",
      "  - https://repo.continuum.io/pkgs/pro/osx-64\n",
      "  - https://repo.continuum.io/pkgs/pro/noarch\n",
      "            \n",
      "\n"
     ]
    }
   ],
   "source": [
    "!conda search colorlover"
   ]
  },
  {
   "cell_type": "code",
   "execution_count": null,
   "metadata": {
    "collapsed": true
   },
   "outputs": [],
   "source": [
    "# Obtain files"
   ]
  },
  {
   "cell_type": "code",
   "execution_count": 1,
   "metadata": {},
   "outputs": [
    {
     "name": "stdout",
     "output_type": "stream",
     "text": [
      "--2017-12-14 17:01:35--  https://github.com/johnchase/plotly-notebook/raw/master/raw_data.tar.gz\n",
      "Resolving github.com... 192.30.255.112, 192.30.255.113\n",
      "Connecting to github.com|192.30.255.112|:443... connected.\n",
      "HTTP request sent, awaiting response... 302 Found\n",
      "Location: https://raw.githubusercontent.com/johnchase/plotly-notebook/master/raw_data.tar.gz [following]\n",
      "--2017-12-14 17:01:37--  https://raw.githubusercontent.com/johnchase/plotly-notebook/master/raw_data.tar.gz\n",
      "Resolving raw.githubusercontent.com... 151.101.104.133\n",
      "Connecting to raw.githubusercontent.com|151.101.104.133|:443... connected.\n",
      "HTTP request sent, awaiting response... 200 OK\n",
      "Length: 2335320 (2.2M) [application/octet-stream]\n",
      "Saving to: 'raw_data.tar.gz'\n",
      "\n",
      "raw_data.tar.gz     100%[===================>]   2.23M  1.36MB/s    in 1.6s    \n",
      "\n",
      "2017-12-14 17:01:40 (1.36 MB/s) - 'raw_data.tar.gz' saved [2335320/2335320]\n",
      "\n"
     ]
    }
   ],
   "source": [
    "!wget https://github.com/johnchase/plotly-notebook/raw/master/raw_data.tar.gz"
   ]
  },
  {
   "cell_type": "code",
   "execution_count": 2,
   "metadata": {},
   "outputs": [
    {
     "name": "stdout",
     "output_type": "stream",
     "text": [
      "x ./._msa10.fna\n",
      "x msa10.fna\n",
      "x ./._seqs_quals.fastq\n",
      "x seqs_quals.fastq\n"
     ]
    }
   ],
   "source": [
    "!tar -xvzf raw_data.tar.gz"
   ]
  },
  {
   "cell_type": "code",
   "execution_count": null,
   "metadata": {
    "collapsed": true
   },
   "outputs": [],
   "source": [
    "#load libraries"
   ]
  },
  {
   "cell_type": "code",
   "execution_count": 23,
   "metadata": {
    "collapsed": true
   },
   "outputs": [],
   "source": [
    "import plotly.plotly as py\n",
    "import plotly.graph_objs as go\n",
    "from plotly.tools import FigureFactory as FF\n",
    "import colorlover as cl\n",
    "\n",
    "import skbio\n",
    "from skbio.alignment import global_pairwise_align_nucleotide\n",
    "from skbio.sequence import DNA\n",
    "import pandas as pd\n",
    "import itertools\n",
    "import numpy as np"
   ]
  },
  {
   "cell_type": "code",
   "execution_count": 48,
   "metadata": {
    "collapsed": true
   },
   "outputs": [],
   "source": [
    "import plotly \n",
    "plotly.tools.set_credentials_file(username='siobhonegan', api_key='4RpshP5pf7nc7tyGvhaD')"
   ]
  },
  {
   "cell_type": "code",
   "execution_count": 49,
   "metadata": {
    "collapsed": true
   },
   "outputs": [],
   "source": [
    "py.sign_in('siobhonegan', '')"
   ]
  },
  {
   "cell_type": "markdown",
   "metadata": {},
   "source": [
    "## 1. Sequence Quality"
   ]
  },
  {
   "cell_type": "markdown",
   "metadata": {},
   "source": [
    "Because the quality of sequence data produced by high throughput sequencing varies between sequencing runs and samples it is important to look at the sequence quality and possibly filter or trim sequences, or remove samples where the quality is low. A more detailed description of the fastq format and quality scores can be found here [http://scikit-bio.org/docs/latest/generated/skbio.io.format.fastq.html?highlight=fastq#module-skbio.io.format.fastq]. Quality scores themselves are difficult to interpret, so we will use scikit-bio to decode the scores for us. Here we load the sequence data into a generator with scikit-bio."
   ]
  },
  {
   "cell_type": "code",
   "execution_count": 59,
   "metadata": {
    "collapsed": true
   },
   "outputs": [],
   "source": [
    "f = '319ITF-B16_S26_L001_R1_001.fastq'\n",
    "seqs = skbio.io.read(f, format='fastq', verify=False, variant='illumina1.8')"
   ]
  },
  {
   "cell_type": "markdown",
   "metadata": {},
   "source": [
    "We can view one of the skbio.sequence._sequence.Sequence entries in the generator object. This will display the sequence data and associated metadata."
   ]
  },
  {
   "cell_type": "code",
   "execution_count": 60,
   "metadata": {},
   "outputs": [
    {
     "data": {
      "text/plain": [
       "Sequence\n",
       "---------------------------------------------------------------------\n",
       "Metadata:\n",
       "    'description': '1:N:0:AAGAGGCA+TCTGCATA'\n",
       "    'id': 'M03542:139:000000000-AYK6Y:1:1101:18775:1757'\n",
       "Positional metadata:\n",
       "    'quality': <dtype: uint8>\n",
       "Stats:\n",
       "    length: 250\n",
       "---------------------------------------------------------------------\n",
       "0   TGAGTTTGAT CCTGGCTCAG AACGAACGCT ATCGGTATGC TTAACACATG CAAGTCGAAC\n",
       "60  GGTCTAATTG GGTCTTGCTC CATTTATTTA GTGGCAGACG GGTGAGTAAC ATGTGGGTAT\n",
       "120 CTACCCATCT GTACTGAATA ACTTTTAGAA ATAAAAGCTA ATACCGTATA TTCTCTACGT\n",
       "180 AGGAAAGATT TATCGCTGTT GGTTGAGCCC GCGTCTGATT AGGTAGTTGG TGAGGTAATG\n",
       "240 GCTCACCAAG"
      ]
     },
     "execution_count": 60,
     "metadata": {},
     "output_type": "execute_result"
    }
   ],
   "source": [
    "seq1 = seqs.__next__()\n",
    "seq1"
   ]
  },
  {
   "cell_type": "markdown",
   "metadata": {},
   "source": [
    "Looking through sequence quality on a per-sequence basis is tedious and it would be diffult to decipher meaningful patterns, plotting the data is a better solution. In order to create a meaningful plot we will first create a pd.DataFrame object of the quality scores. Due to limitations in data size and because a subset of our data will fairly accurately represent the quality of the full data set we will only look at the first 500 sequences in our data set."
   ]
  },
  {
   "cell_type": "code",
   "execution_count": 61,
   "metadata": {
    "collapsed": true
   },
   "outputs": [],
   "source": [
    "seqs = skbio.io.read(f, format='fastq', verify=False, variant='illumina1.8')\n",
    "\n",
    "df = pd.DataFrame()\n",
    "num_sequences = 500\n",
    "\n",
    "for count, seq in enumerate(itertools.islice(seqs, num_sequences)):\n",
    "    df[count] = seq.positional_metadata.quality"
   ]
  },
  {
   "cell_type": "markdown",
   "metadata": {},
   "source": [
    "Now that we have a dataframe with all of our quality scores it is easy to visualize them with plotly.\n",
    "We can improve upon a basic boxplot by defining a specific color scheme. Fastq quality scores range from 0-40, and poor quality is often considered to be anything less then 20. Given this we will define a diverging colormap where an average quality score of below 20 will be a shade of red and anything above will be a shade of blue. (20 will be yellow). This will help with distinguishing regions of high versus low quality."
   ]
  },
  {
   "cell_type": "markdown",
   "metadata": {},
   "source": [
    "First define the colormap using color lover"
   ]
  },
  {
   "cell_type": "code",
   "execution_count": 62,
   "metadata": {
    "collapsed": true
   },
   "outputs": [],
   "source": [
    "purd = cl.scales['11']['div']['RdYlBu']\n",
    "purd40 = cl.interp(purd, 40)"
   ]
  },
  {
   "cell_type": "markdown",
   "metadata": {},
   "source": [
    "Now we can make boxplots of the quality scores on a per base basis"
   ]
  },
  {
   "cell_type": "code",
   "execution_count": 63,
   "metadata": {},
   "outputs": [
    {
     "name": "stdout",
     "output_type": "stream",
     "text": [
      "High five! You successfully sent some data to your account on plotly. View your plot in your browser at https://plot.ly/~siobhonegan/0 or inside your plot.ly account where it is named 'quality-scores'\n"
     ]
    },
    {
     "data": {
      "text/html": [
       "<iframe id=\"igraph\" scrolling=\"no\" style=\"border:none;\" seamless=\"seamless\" src=\"https://plot.ly/~siobhonegan/0.embed\" height=\"525px\" width=\"100%\"></iframe>"
      ],
      "text/plain": [
       "<plotly.tools.PlotlyDisplay object>"
      ]
     },
     "execution_count": 63,
     "metadata": {},
     "output_type": "execute_result"
    }
   ],
   "source": [
    "traces = []\n",
    "for e in range(len(df)):\n",
    "    traces.append(go.Box(\n",
    "        y=df.iloc[e].values,\n",
    "        name=e,\n",
    "        boxpoints='none',\n",
    "        whiskerwidth=0.2,\n",
    "        marker=dict(\n",
    "            size=.1,\n",
    "            color=purd40[int(round(df.iloc[e].mean(), 0))]\n",
    "        ),\n",
    "        line=dict(width=1),\n",
    "    ))\n",
    "\n",
    "layout = go.Layout(\n",
    "    title='Quality Score Distributions',\n",
    "    yaxis=dict(\n",
    "        title='Quality Score',\n",
    "        autorange=True,\n",
    "        showgrid=True,\n",
    "        zeroline=True,\n",
    "        gridcolor='#d9d4d3',\n",
    "        zerolinecolor='#d9d4d3',\n",
    "    ),\n",
    "    xaxis=dict(\n",
    "        title='Base Position',\n",
    "    ),\n",
    "\n",
    "    font=dict(family='Times New Roman', size=16, color='#2e1c18'),\n",
    "    paper_bgcolor='#eCe9e9',\n",
    "    plot_bgcolor='#eCe9e9'\n",
    ")\n",
    "\n",
    "fig = go.Figure(data=traces, layout=layout)\n",
    "py.iplot(fig, filename='quality-scores')"
   ]
  },
  {
   "cell_type": "markdown",
   "metadata": {},
   "source": [
    "## 2. Sequence Alignment"
   ]
  },
  {
   "cell_type": "markdown",
   "metadata": {},
   "source": [
    "One of the most important steps in bioinformatics is sequence alignment. Aligning sequences helps us to understand the relationship between two or more sequences, it allows us to identify specific bases or regions that vary between sequences and can be used to discover novel sequences. For the purpose of this notebook we will use the global pariwise aligner from skbio this is known to be slow and should be updated soon. If you are aligning more than a few sequences, there are other faster aligners that would be preferrable such as MAFFT. QIIME2 provides a convenient set of tools that wrap aligners such as MAFFT."
   ]
  },
  {
   "cell_type": "markdown",
   "metadata": {},
   "source": [
    "### Align the first two sequences using scikit-bio"
   ]
  },
  {
   "cell_type": "markdown",
   "metadata": {},
   "source": [
    "This is slow, and really only appropriate for educational purposes. In fact scikit-bio will generate a warning to this effect. You can find more information about the scikit-bio aligner in this github issue. If you are aligning sequences locally scikit-bio has optimized algorithms appropriate for larger scale data.\n",
    "\n",
    "Once again we load the sequences using scikit-bio. Here we will only load the first two sequences in order to illustrate pairwise alignment."
   ]
  },
  {
   "cell_type": "code",
   "execution_count": 64,
   "metadata": {
    "collapsed": true
   },
   "outputs": [],
   "source": [
    "seqs = [DNA(e) for e in itertools.islice(skbio.io.read(f, format='fastq', variant='illumina1.8'), 2)]"
   ]
  },
  {
   "cell_type": "code",
   "execution_count": 65,
   "metadata": {},
   "outputs": [
    {
     "name": "stderr",
     "output_type": "stream",
     "text": [
      "/Users/siobhonegan/anaconda3/lib/python3.6/site-packages/skbio/alignment/_pairwise.py:599: EfficiencyWarning:\n",
      "\n",
      "You're using skbio's python implementation of Needleman-Wunsch alignment. This is known to be very slow (e.g., thousands of times slower than a native C implementation). We'll be adding a faster version soon (see https://github.com/biocore/scikit-bio/issues/254 to track progress on this).\n",
      "\n"
     ]
    },
    {
     "data": {
      "text/plain": [
       "(TabularMSA[DNA]\n",
       " -----------------------------------------------------------------------\n",
       " Stats:\n",
       "     sequence count: 2\n",
       "     position count: 499\n",
       " -----------------------------------------------------------------------\n",
       " TGAGTTTGATCCTGGCTCAGAACGAACGCTATC ... ---------------------------------\n",
       " --------------------------------- ... GCTCTAGGATTAGCCTACGTCGGATTTGCTAGT,\n",
       " 2.0,\n",
       " [(0, 249), (0, 250)])"
      ]
     },
     "execution_count": 65,
     "metadata": {},
     "output_type": "execute_result"
    }
   ],
   "source": [
    "aligned_seqs = global_pairwise_align_nucleotide(seqs[0], seqs[1])\n",
    "aligned_seqs"
   ]
  },
  {
   "cell_type": "markdown",
   "metadata": {},
   "source": [
    "### Align multiple sequences"
   ]
  },
  {
   "cell_type": "markdown",
   "metadata": {},
   "source": [
    "Pairwise alignment is a more simple task than multiple sequence alignment. With multiple sequences each additional sequence changes the overall alignment, meaning it must be constructed progressively with each additional sequence. This can be very computationally expensive. If you do not wish to wait for the alignment to run (or do not wish to install An Introduction to Bioinformatics, you can leave the following lines commented out and load the pre-aligned sequences."
   ]
  },
  {
   "cell_type": "code",
   "execution_count": 32,
   "metadata": {
    "collapsed": true
   },
   "outputs": [],
   "source": [
    "# from iab.algorithms import progressive_msa, tree_from_distance_matrix\n",
    "# from functools import partial\n",
    "\n",
    "# f = 'run1_16s/rev_seqs/1AM1JR7QWMSFA.fastq'\n",
    "# seqs = [DNA(e) for e in itertools.islice(skbio.io.read(f, format='fastq', verify=False, variant='illumina1.8'), 10)]\n",
    "# seqs = [e for e in seqs if not e.has_degenerates()]\n",
    "# msa = progressive_msa(seqs, global_pairwise_align_nucleotide)\n",
    "# msa.write('msa10.fna')\n",
    "msa = skbio.alignment.TabularMSA.read('msa10.fna', constructor=DNA)"
   ]
  },
  {
   "cell_type": "markdown",
   "metadata": {},
   "source": [
    "In order to create a meaningful visualization of the multiple sequence alignment we will use heatmap functionality of plotly.\n",
    "First we assign a numeric value to each possible character in our alignment, \"A\", \"T\", \"G\", \"C\", and \"-\""
   ]
  },
  {
   "cell_type": "code",
   "execution_count": 33,
   "metadata": {
    "collapsed": true
   },
   "outputs": [],
   "source": [
    "base_dic = {'A': 1, 'C': .25, 'G': .5, 'T': .75, '-': 0}"
   ]
  },
  {
   "cell_type": "markdown",
   "metadata": {},
   "source": [
    "Next we define a function that takes an alignment and returns two, two-dimensional arrays, one of the characters in the alignment and one of the numeric value that represents the character defined in the dictionary above. The numeric value will be used to define the color in the heatmap. The function below will create an array of the alignment such the only bases that are colored differently are bases that are different from the first sequence. This will make identifying differences in sequences much easier. If each based was given a unique color regardless of it's relationship to other sequences the plot would be noisy and difficult to interpret."
   ]
  },
  {
   "cell_type": "code",
   "execution_count": 34,
   "metadata": {
    "collapsed": true
   },
   "outputs": [],
   "source": [
    "def seq_align_for_plot(msa):\n",
    "    base_text = [list(str(e)) for e in msa]\n",
    "    base_values = np.zeros((len(base_text), len(base_text[0])))\n",
    "    for i in range(len(base_text[0])):\n",
    "        for j in range(len(base_text)):\n",
    "            if base_text[j][i] != base_text[0][i]:\n",
    "                base_values[j][i] = base_dic[base_text[j][i]]\n",
    "    return(base_text, base_values)\n",
    "\n",
    "base_text, base_values = seq_align_for_plot(msa)"
   ]
  },
  {
   "cell_type": "markdown",
   "metadata": {},
   "source": [
    "Define a colorscale where the values for each base is given a defined color"
   ]
  },
  {
   "cell_type": "code",
   "execution_count": 35,
   "metadata": {
    "collapsed": true
   },
   "outputs": [],
   "source": [
    "colorscale=[[0.00, '#F4F0E4'], \n",
    "            [0.25, '#1b9e77'], \n",
    "            [0.50, '#d95f02'], \n",
    "            [0.75, '#7570b3'],\n",
    "            [1.00, '#e7298a']]"
   ]
  },
  {
   "cell_type": "markdown",
   "metadata": {},
   "source": [
    "Create a list of arbitrary sequences names (The original sequence names were randomly generated and do not have meaning associated with them)."
   ]
  },
  {
   "cell_type": "code",
   "execution_count": 36,
   "metadata": {
    "collapsed": true
   },
   "outputs": [],
   "source": [
    "seq_names = [\"Seq \" + str(e + 1) for e in range(len(base_text))]"
   ]
  },
  {
   "cell_type": "markdown",
   "metadata": {},
   "source": [
    "Finally we can plot the alignment.\n"
   ]
  },
  {
   "cell_type": "code",
   "execution_count": 53,
   "metadata": {
    "scrolled": true
   },
   "outputs": [
    {
     "name": "stderr",
     "output_type": "stream",
     "text": [
      "/Users/siobhonegan/anaconda3/lib/python3.6/site-packages/plotly/tools.py:1422: UserWarning:\n",
      "\n",
      "plotly.tools.FigureFactory.create_annotated_heatmap is deprecated. Use plotly.figure_factory.create_annotated_heatmap\n",
      "\n"
     ]
    },
    {
     "data": {
      "text/html": [
       "<iframe id=\"igraph\" scrolling=\"no\" style=\"border:none;\" seamless=\"seamless\" src=\"https://plot.ly/~siobhonegan/2.embed\" height=\"450px\" width=\"10000px\"></iframe>"
      ],
      "text/plain": [
       "<plotly.tools.PlotlyDisplay object>"
      ]
     },
     "execution_count": 53,
     "metadata": {},
     "output_type": "execute_result"
    }
   ],
   "source": [
    "fig = FF.create_annotated_heatmap(base_values, \n",
    "                                  annotation_text=base_text, \n",
    "                                  colorscale=colorscale)\n",
    "\n",
    "fig['layout'].update(\n",
    "    title=\"Aligned Sequences\",\n",
    "    xaxis=dict(ticks='', \n",
    "               side='top',\n",
    "               ticktext=list(np.arange(0, len(base_text[0]), 10)),\n",
    "               tickvals=list(np.arange(0, len(base_text[0]), 10)),\n",
    "               showticklabels=True,\n",
    "               tickfont=dict(family='Bookman', \n",
    "                             size=18, \n",
    "                             color='#22293B',\n",
    "                            ),\n",
    "              ),\n",
    "    \n",
    "    yaxis=dict(autorange='reversed',\n",
    "               ticks='', \n",
    "               ticksuffix='  ',\n",
    "               ticktext=seq_names,\n",
    "               tickvals=list(np.arange(0, len(base_text))),\n",
    "               showticklabels=True,\n",
    "               tickfont=dict(family='Bookman', \n",
    "                         size=18, \n",
    "                         color='22293B',\n",
    "                            ),\n",
    "              ),\n",
    "    width=10000,\n",
    "    height=450,\n",
    "    autosize=True,\n",
    "    annotations=dict(font=dict(family='Courier New, monospace',\n",
    "                                size=14,\n",
    "                                color='#3f566d'\n",
    "                               ),\n",
    "                      )\n",
    ")\n",
    "py.iplot(fig, filename='msa')"
   ]
  },
  {
   "cell_type": "code",
   "execution_count": null,
   "metadata": {
    "collapsed": true
   },
   "outputs": [],
   "source": []
  }
 ],
 "metadata": {
  "kernelspec": {
   "display_name": "Python 3",
   "language": "python",
   "name": "python3"
  },
  "language_info": {
   "codemirror_mode": {
    "name": "ipython",
    "version": 3
   },
   "file_extension": ".py",
   "mimetype": "text/x-python",
   "name": "python",
   "nbconvert_exporter": "python",
   "pygments_lexer": "ipython3",
   "version": "3.6.3"
  }
 },
 "nbformat": 4,
 "nbformat_minor": 2
}
