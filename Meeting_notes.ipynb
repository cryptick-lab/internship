{
 "cells": [
  {
   "cell_type": "markdown",
   "metadata": {},
   "source": [
    "# Meeting notes"
   ]
  },
  {
   "cell_type": "markdown",
   "metadata": {},
   "source": [
    "# Internship period 27 Nov - 15 Feb"
   ]
  },
  {
   "cell_type": "markdown",
   "metadata": {},
   "source": [
    "### Important dates\n",
    "Monday Dec 11, Morning Tea: theme - tell us what you're working on in 60 seconds hosted @ Pawsey\n",
    "Monday Jan 8, Presentation training with Aditi Subramanya hosted @ Pawsey\n",
    "Friday Feb 16, Final Report and Poster due (digital)\n",
    "Friday Feb 23, Pawsey Friday Talk and Poster session @ Pawsey [supervisors encouraged to attend, will include special guest speaker]"
   ]
  },
  {
   "cell_type": "markdown",
   "metadata": {},
   "source": [
    "### Outline\n",
    "Week 1 - Pawsey workshops [Complete]\n",
    "Week 2 - Compile datasets and metadata\n",
    "week 3 - Script writing to assign OTUs\n",
    "Week 4 - Preliminary data anlysis\n",
    "Week 5 - script writing to assess diversity\n",
    "Week 8 - Script writing to uncover patterns in diversity\n",
    "Week 7 - Data visualization\n",
    "Week 8 - Data visualisation and recommendations for future NGS work depending on findings of diversity analysis\n",
    "Week 9 - Designing a protocol for future NGS data analysis\n",
    "Week 10 - Finalisation of protocols and data visualisation techqniues"
   ]
  },
  {
   "cell_type": "code",
   "execution_count": null,
   "metadata": {
    "collapsed": true
   },
   "outputs": [],
   "source": [
    "### Questions\n",
    "5/12/2017\n",
    "- How to bioinformatically subtract EXB and NTC samples - need information on runs, can this be done together?\n",
    "- Use of python notebook to collate information  ability to produce graphs inside script\n",
    "- Use of qiime 2 - updates to iMac needed\n",
    "- Use of usearch? (vs freely available ones e.g. vsearch)"
   ]
  }
 ],
 "metadata": {
  "kernelspec": {
   "display_name": "Python 3",
   "language": "python",
   "name": "python3"
  },
  "language_info": {
   "codemirror_mode": {
    "name": "ipython",
    "version": 3
   },
   "file_extension": ".py",
   "mimetype": "text/x-python",
   "name": "python",
   "nbconvert_exporter": "python",
   "pygments_lexer": "ipython3",
   "version": "3.6.3"
  }
 },
 "nbformat": 4,
 "nbformat_minor": 2
}
